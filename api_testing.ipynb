{
 "cells": [
  {
   "cell_type": "code",
   "execution_count": 14,
   "metadata": {},
   "outputs": [
    {
     "name": "stdout",
     "output_type": "stream",
     "text": [
      "Making request...\n",
      "The Karatsuba algorithm is an efficient algorithm for multiplication of large integers. In essence, it's a clever trick to reduce the multiplication process from three multiplications to just two. This may not seem like a big deal, but it can have a significant impact when dealing with large numbers.\n",
      "\n",
      "The standard method for multiplying two n-digit numbers requires (n × n) multiplications, which gets very slow for large numbers. Karatsuba's idea is to break down the multiplication into smaller pieces and reuse the results. Specifically, it expresses the product of two numbers ab in the form:\n",
      "\n",
      "a × b = (a &LT;= 2^k) × (b &LT;= 2^k) + (a &GT;= 2^k + a &LT;= 2^(k+1)) × (b &GT;= 2^k + b &LT;= 2^(k+1)) + ((a &GT;= 2^(k+1)) × (b &LT;= 2^k)) + ((a &LT;= 2^(k+1)) × (b &GT;= 2^k))\n",
      "\n",
      "This breaks down the multiplication into three multiplications instead of the usual four. By cleverly rearranging the terms, Karatsuba shows that these three multiplications can be computed using only two multiplications.\n",
      "\n",
      "Here's an example: suppose we want to multiply 1234 and 5678. We can break down the numbers into two parts each (1234 = 1000 + 200 + 30 + 4 and 5678 = 5000 + 700 + 70 + 8), and then apply the Karatsuba formula. This reduces the number of multiplications required from 12 to 3, making the algorithm much faster for large numbers.\n",
      "\n",
      "Karatsuba's algorithm has many applications in cryptography, coding theory, and other fields where large integer multiplications are necessary. For instance, it's used in the Diffie-Hellman key exchange algorithm to quickly compute large products, which is essential for secure data transmission.\n"
     ]
    }
   ],
   "source": [
    "import requests\n",
    "\n",
    "\n",
    "url = f\"https://geapi.onrender.com/G-Explain\"\n",
    "\n",
    "\n",
    "\n",
    "body = {\n",
    "    \"message\": \"Karatsuba algorithm\"\n",
    "}\n",
    "    \n",
    "print(\"Making request...\")\n",
    "response = requests.post(url, json=body)\n",
    "\n",
    "print(response.text)\n"
   ]
  },
  {
   "cell_type": "code",
   "execution_count": 10,
   "metadata": {},
   "outputs": [
    {
     "name": "stdout",
     "output_type": "stream",
     "text": [
      "The Karatsuba algorithm is a fast multiplication algorithm for large integers, developed by Anatolii Alexeevich Karatsuba in 1962. It's an exponential algorithm, reducing the number of multiplications required to multiply two large numbers from the conventional O(n^2) to O(n^1.585).\n",
      "\n",
      "The algorithm works by dividing the two numbers into smaller parts, and then multiplying those parts in a specific way. The basic idea is to convert the multiplication of two numbers into a function call to itself, with smaller inputs.\n",
      "\n",
      "Let's consider two numbers, a and b, each of size n. The conventional way to multiply them would be:\n",
      "\n",
      "(a * 10^n + a) * (b * 10^n + b)\n",
      "\n",
      "The Karatsuba algorithm simplifies this expression by splitting it into three parts:\n",
      "\n",
      "1. Multiply a and b\n",
      "2. Multiply (a + b) and (a + b)\n",
      "3. Multiply (a - b) and (a - b)\n",
      "\n",
      "Then, using the distributive property, we combine these parts to get the original product:\n",
      "\n",
      "(a * 10^n + a) * (b * 10^n + b) = (a * b) + (a * b * 10^n) + (a * b * 10^(2n)) + (a * b)\n",
      "\n",
      "The key insight here is that steps 1 and 2 are much faster because they involve multiplying smaller numbers. The algorithm recursively applies itself to these smaller products, reducing the number of multiplications needed.\n",
      "\n",
      "For example, if we want to multiply two 4-digit numbers, we would divide them into two 2-digit parts and apply the algorithm recursively. This reduces the number of multiplications from 16 to 6, making it much faster.\n",
      "\n",
      "The Karatsuba algorithm has many applications in computer science, such as cryptography, sorting algorithms, and digital signal processing. Its impact on computing has been significant, enabling faster and more efficient calculations for many real-world applications.\n"
     ]
    }
   ],
   "source": [
    "print(response.text)"
   ]
  },
  {
   "cell_type": "code",
   "execution_count": 3,
   "metadata": {},
   "outputs": [
    {
     "data": {
      "text/plain": [
       "\"Hello! I'm here to help you with a concept or subject. What would you like to talk about? Please go ahead and provide the subject or concept, and I'll do my best to explain it in an intuitive way and provide an example of its application.\""
      ]
     },
     "execution_count": 3,
     "metadata": {},
     "output_type": "execute_result"
    }
   ],
   "source": [
    "\n",
    "from explain import *\n",
    "\n",
    "GEA_Chat.static_explain('hello')\n",
    "# bot.chat(\"how can I use this in my daily life as a gooner?\")\n",
    "\n",
    "# the problem right now is i think the pre-prompt is not being interpreted.\n",
    "# it is generating responses without the system prompt in context\n",
    "# might have something to do with how the api handles consecutive requests.\n"
   ]
  }
 ],
 "metadata": {
  "kernelspec": {
   "display_name": "Python 3",
   "language": "python",
   "name": "python3"
  },
  "language_info": {
   "codemirror_mode": {
    "name": "ipython",
    "version": 3
   },
   "file_extension": ".py",
   "mimetype": "text/x-python",
   "name": "python",
   "nbconvert_exporter": "python",
   "pygments_lexer": "ipython3",
   "version": "3.12.7"
  }
 },
 "nbformat": 4,
 "nbformat_minor": 2
}
