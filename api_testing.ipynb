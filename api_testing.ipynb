{
 "cells": [
  {
   "cell_type": "code",
   "execution_count": null,
   "metadata": {},
   "outputs": [],
   "source": [
    "import requests\n",
    "\n",
    "\n",
    "url = f\"https://geapi.onrender.com/G-Explain\"\n",
    "\n",
    "\n",
    "\n",
    "body = {\n",
    "    \"message\": \"karatsuba algorithm\"\n",
    "}\n",
    "    \n",
    " \n",
    "\n",
    "print(\"Making request...\")\n",
    "response = requests.post(url, json=body)\n",
    "\n",
    "print(response)\n"
   ]
  },
  {
   "cell_type": "code",
   "execution_count": 3,
   "metadata": {},
   "outputs": [
    {
     "data": {
      "text/plain": [
       "\"Hello! I'm here to help you with a concept or subject. What would you like to talk about? Please go ahead and provide the subject or concept, and I'll do my best to explain it in an intuitive way and provide an example of its application.\""
      ]
     },
     "execution_count": 3,
     "metadata": {},
     "output_type": "execute_result"
    }
   ],
   "source": [
    "\n",
    "from explain import *\n",
    "\n",
    "GEA_Chat.static_explain('hello')\n",
    "# bot.chat(\"how can I use this in my daily life as a gooner?\")\n",
    "\n",
    "# the problem right now is i think the pre-prompt is not being interpreted.\n",
    "# it is generating responses without the system prompt in context\n",
    "# might have something to do with how the api handles consecutive requests.\n"
   ]
  }
 ],
 "metadata": {
  "kernelspec": {
   "display_name": "Python 3",
   "language": "python",
   "name": "python3"
  },
  "language_info": {
   "codemirror_mode": {
    "name": "ipython",
    "version": 3
   },
   "file_extension": ".py",
   "mimetype": "text/x-python",
   "name": "python",
   "nbconvert_exporter": "python",
   "pygments_lexer": "ipython3",
   "version": "3.12.7"
  }
 },
 "nbformat": 4,
 "nbformat_minor": 2
}
